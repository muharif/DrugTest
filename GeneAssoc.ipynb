{
 "cells": [
  {
   "cell_type": "code",
   "execution_count": 1,
   "metadata": {
    "collapsed": true
   },
   "outputs": [],
   "source": [
    "from opentargets import OpenTargetsClient\n",
    "ot = OpenTargetsClient()\n",
    "import pandas as pd"
   ]
  },
  {
   "cell_type": "code",
   "execution_count": 20,
   "metadata": {
    "collapsed": false
   },
   "outputs": [],
   "source": [
    "gene1=pd.read_excel('Group1.xlsx',header=None)[0].tolist()\n",
    "gene1=map(str,gene1)"
   ]
  },
  {
   "cell_type": "code",
   "execution_count": 21,
   "metadata": {
    "collapsed": false
   },
   "outputs": [],
   "source": [
    "res=[]\n",
    "for i in gene1:\n",
    "    try:\n",
    "        gene_name=ot.get_associations_for_target(i)[0]['target']['gene_info']['symbol']\n",
    "    except TypeError:\n",
    "        gene_name='Unknown'\n",
    "    try:\n",
    "        cancer=ot.get_association(i+'-EFO_0000311')[0]['association_score']['overall']\n",
    "    except TypeError:\n",
    "        cancer=0\n",
    "    try:\n",
    "        hcc=ot.get_association(i+'-EFO_0000182')[0]['association_score']['overall']\n",
    "    except TypeError:\n",
    "        hcc=0\n",
    "    try:\n",
    "        t2d=ot.get_association(i+'-EFO_0001360')[0]['association_score']['overall']\n",
    "    except TypeError:\n",
    "        t2d=0\n",
    "    try:\n",
    "        nafld=ot.get_association(i+'-EFO_0003095')[0]['association_score']['overall']\n",
    "    except TypeError:\n",
    "        nafld=0\n",
    "    res.append([i,cancer,hcc,t2d,nafld,gene_name])\n",
    "res2=pd.DataFrame(res)\n",
    "res2.columns=['Gene','Cancer','HCC','T2D','NAFLD','Gene']\n",
    "res2.to_csv('assoc_score.csv',index=False)"
   ]
  },
  {
   "cell_type": "code",
   "execution_count": 17,
   "metadata": {
    "collapsed": false
   },
   "outputs": [
    {
     "data": {
      "text/html": [
       "<div>\n",
       "<table border=\"1\" class=\"dataframe\">\n",
       "  <thead>\n",
       "    <tr style=\"text-align: right;\">\n",
       "      <th></th>\n",
       "      <th>Gene</th>\n",
       "      <th>Cancer</th>\n",
       "      <th>HCC</th>\n",
       "      <th>T2D</th>\n",
       "      <th>NAFLD</th>\n",
       "      <th>Gene</th>\n",
       "    </tr>\n",
       "  </thead>\n",
       "  <tbody>\n",
       "    <tr>\n",
       "      <th>0</th>\n",
       "      <td>ENSG00000162267</td>\n",
       "      <td>0.328148</td>\n",
       "      <td>0.000000</td>\n",
       "      <td>0.000000</td>\n",
       "      <td>0.000000</td>\n",
       "      <td>ITIH3</td>\n",
       "    </tr>\n",
       "    <tr>\n",
       "      <th>1</th>\n",
       "      <td>ENSG00000182326</td>\n",
       "      <td>0.410192</td>\n",
       "      <td>0.020293</td>\n",
       "      <td>0.000000</td>\n",
       "      <td>0.000000</td>\n",
       "      <td>C1S</td>\n",
       "    </tr>\n",
       "    <tr>\n",
       "      <th>2</th>\n",
       "      <td>ENSG00000145192</td>\n",
       "      <td>0.344750</td>\n",
       "      <td>0.158076</td>\n",
       "      <td>0.243410</td>\n",
       "      <td>0.060600</td>\n",
       "      <td>AHSG</td>\n",
       "    </tr>\n",
       "    <tr>\n",
       "      <th>3</th>\n",
       "      <td>ENSG00000055957</td>\n",
       "      <td>0.323342</td>\n",
       "      <td>0.033081</td>\n",
       "      <td>0.000000</td>\n",
       "      <td>0.000000</td>\n",
       "      <td>ITIH1</td>\n",
       "    </tr>\n",
       "    <tr>\n",
       "      <th>4</th>\n",
       "      <td>ENSG00000110245</td>\n",
       "      <td>0.365196</td>\n",
       "      <td>0.122214</td>\n",
       "      <td>0.225777</td>\n",
       "      <td>0.084993</td>\n",
       "      <td>APOC3</td>\n",
       "    </tr>\n",
       "    <tr>\n",
       "      <th>5</th>\n",
       "      <td>ENSG00000077522</td>\n",
       "      <td>0.088784</td>\n",
       "      <td>0.030963</td>\n",
       "      <td>0.000000</td>\n",
       "      <td>0.000000</td>\n",
       "      <td>ACTN2</td>\n",
       "    </tr>\n",
       "    <tr>\n",
       "      <th>6</th>\n",
       "      <td>ENSG00000148702</td>\n",
       "      <td>1.000000</td>\n",
       "      <td>0.181929</td>\n",
       "      <td>0.006800</td>\n",
       "      <td>0.000000</td>\n",
       "      <td>HABP2</td>\n",
       "    </tr>\n",
       "    <tr>\n",
       "      <th>7</th>\n",
       "      <td>ENSG00000197616</td>\n",
       "      <td>0.108702</td>\n",
       "      <td>0.094586</td>\n",
       "      <td>0.000000</td>\n",
       "      <td>0.000000</td>\n",
       "      <td>MYH6</td>\n",
       "    </tr>\n",
       "    <tr>\n",
       "      <th>8</th>\n",
       "      <td>ENSG00000021852</td>\n",
       "      <td>0.306498</td>\n",
       "      <td>0.103728</td>\n",
       "      <td>0.000000</td>\n",
       "      <td>0.000000</td>\n",
       "      <td>C8B</td>\n",
       "    </tr>\n",
       "    <tr>\n",
       "      <th>9</th>\n",
       "      <td>ENSG00000128641</td>\n",
       "      <td>0.229059</td>\n",
       "      <td>0.016400</td>\n",
       "      <td>0.000000</td>\n",
       "      <td>0.000000</td>\n",
       "      <td>MYO1B</td>\n",
       "    </tr>\n",
       "  </tbody>\n",
       "</table>\n",
       "</div>"
      ],
      "text/plain": [
       "              Gene    Cancer       HCC       T2D     NAFLD   Gene\n",
       "0  ENSG00000162267  0.328148  0.000000  0.000000  0.000000  ITIH3\n",
       "1  ENSG00000182326  0.410192  0.020293  0.000000  0.000000    C1S\n",
       "2  ENSG00000145192  0.344750  0.158076  0.243410  0.060600   AHSG\n",
       "3  ENSG00000055957  0.323342  0.033081  0.000000  0.000000  ITIH1\n",
       "4  ENSG00000110245  0.365196  0.122214  0.225777  0.084993  APOC3\n",
       "5  ENSG00000077522  0.088784  0.030963  0.000000  0.000000  ACTN2\n",
       "6  ENSG00000148702  1.000000  0.181929  0.006800  0.000000  HABP2\n",
       "7  ENSG00000197616  0.108702  0.094586  0.000000  0.000000   MYH6\n",
       "8  ENSG00000021852  0.306498  0.103728  0.000000  0.000000    C8B\n",
       "9  ENSG00000128641  0.229059  0.016400  0.000000  0.000000  MYO1B"
      ]
     },
     "execution_count": 17,
     "metadata": {},
     "output_type": "execute_result"
    }
   ],
   "source": [
    "res2"
   ]
  },
  {
   "cell_type": "code",
   "execution_count": 18,
   "metadata": {
    "collapsed": false
   },
   "outputs": [],
   "source": [
    "res2.to_csv('assoc_score.csv',index=False)"
   ]
  }
 ],
 "metadata": {
  "kernelspec": {
   "display_name": "Python 2",
   "language": "python",
   "name": "python2"
  },
  "language_info": {
   "codemirror_mode": {
    "name": "ipython",
    "version": 2
   },
   "file_extension": ".py",
   "mimetype": "text/x-python",
   "name": "python",
   "nbconvert_exporter": "python",
   "pygments_lexer": "ipython2",
   "version": "2.7.12"
  }
 },
 "nbformat": 4,
 "nbformat_minor": 1
}
